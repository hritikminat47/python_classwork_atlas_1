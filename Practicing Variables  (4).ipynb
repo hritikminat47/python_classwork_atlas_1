{
 "cells": [
  {
   "cell_type": "markdown",
   "id": "5b20af98",
   "metadata": {},
   "source": [
    "# Practice your variables!\n",
    "Course: BBA 108-Essentials of Computing & Coding\n",
    "\n",
    "Submission date: Sunday (19/09/21), 11:59 p.m.\n",
    "\n",
    "Hey everyone! This is a practice bonus assignment worth 10 points. I **highly** encourage all of you to do this.\n",
    "\n",
    "Please contact the following **on Slack** if there are any questions or issues:\n",
    "\n",
    "- @Shourya Watwani \n",
    "- @Vanshika Raj \n",
    "- @Aryan Gupta \n",
    "\n",
    "Thank you! Happy coding :)\n"
   ]
  },
  {
   "cell_type": "code",
   "execution_count": null,
   "id": "d7643d51",
   "metadata": {},
   "outputs": [],
   "source": [
    "# Create and print a variable to tell us your name."
   ]
  },
  {
   "cell_type": "code",
   "execution_count": 1,
   "id": "04951c80",
   "metadata": {},
   "outputs": [
    {
     "data": {
      "text/plain": [
       "'hritik minat'"
      ]
     },
     "execution_count": 1,
     "metadata": {},
     "output_type": "execute_result"
    }
   ],
   "source": [
    "# my name \n",
    "my_name = (\"hritik minat\")\n",
    "my_name"
   ]
  },
  {
   "cell_type": "code",
   "execution_count": null,
   "id": "a48e84de",
   "metadata": {},
   "outputs": [],
   "source": [
    "# Create and print a variable to tell us your age."
   ]
  },
  {
   "cell_type": "code",
   "execution_count": 2,
   "id": "9e5c1002",
   "metadata": {},
   "outputs": [
    {
     "data": {
      "text/plain": [
       "19"
      ]
     },
     "execution_count": 2,
     "metadata": {},
     "output_type": "execute_result"
    }
   ],
   "source": [
    "# my age \n",
    "my_age = 19\n",
    "my_age"
   ]
  },
  {
   "cell_type": "code",
   "execution_count": null,
   "id": "fb242ec5",
   "metadata": {},
   "outputs": [],
   "source": [
    "# Create and print a variable to tell us how many times you've taken a trip within India."
   ]
  },
  {
   "cell_type": "code",
   "execution_count": 3,
   "id": "c20c94fd",
   "metadata": {},
   "outputs": [
    {
     "data": {
      "text/plain": [
       "7"
      ]
     },
     "execution_count": 3,
     "metadata": {},
     "output_type": "execute_result"
    }
   ],
   "source": [
    "#trip in india \n",
    "trip_in_india = 7\n",
    "trip_in_india"
   ]
  },
  {
   "cell_type": "raw",
   "id": "0e2673f1",
   "metadata": {},
   "source": [
    "# Create and print a variable to tell us how many times you've taken a trip outside India."
   ]
  },
  {
   "cell_type": "code",
   "execution_count": 24,
   "id": "49e75303",
   "metadata": {},
   "outputs": [
    {
     "data": {
      "text/plain": [
       "20"
      ]
     },
     "execution_count": 24,
     "metadata": {},
     "output_type": "execute_result"
    }
   ],
   "source": [
    "#trip outside india\n",
    "trip_outside_india = 20\n",
    "trip_outside_india"
   ]
  },
  {
   "cell_type": "code",
   "execution_count": 3,
   "id": "bf7668ee",
   "metadata": {},
   "outputs": [],
   "source": [
    "# Create and print a variable to calculate the total number of trips you've taken."
   ]
  },
  {
   "cell_type": "code",
   "execution_count": 25,
   "id": "12a75db3",
   "metadata": {},
   "outputs": [
    {
     "data": {
      "text/plain": [
       "27"
      ]
     },
     "execution_count": 25,
     "metadata": {},
     "output_type": "execute_result"
    }
   ],
   "source": [
    "#total number of trips\n",
    "total_number_of_trips = (trip_in_india+ trip_outside_india)\n",
    "total_number_of_trips"
   ]
  },
  {
   "cell_type": "code",
   "execution_count": 23,
   "id": "52224f94",
   "metadata": {},
   "outputs": [],
   "source": [
    "# Create and print a variable to tell us total number of trips you've taken, using the numeric value in a sentence."
   ]
  },
  {
   "cell_type": "code",
   "execution_count": 18,
   "id": "d9220acf",
   "metadata": {},
   "outputs": [
    {
     "data": {
      "text/plain": [
       "'the total number of trips i have taken is '"
      ]
     },
     "execution_count": 18,
     "metadata": {},
     "output_type": "execute_result"
    }
   ],
   "source": [
    "# starting phrase \n",
    "starting_phrase = \"the total number of trips i have taken is \"\n",
    "starting_phrase "
   ]
  },
  {
   "cell_type": "code",
   "execution_count": 36,
   "id": "67d2f103",
   "metadata": {},
   "outputs": [
    {
     "data": {
      "text/plain": [
       "'average_number_of_trip_taken is 27'"
      ]
     },
     "execution_count": 36,
     "metadata": {},
     "output_type": "execute_result"
    }
   ],
   "source": [
    "# sentence\n",
    "sentence = starting_phrase+str(total_number_of_trips)\n",
    "sentence"
   ]
  },
  {
   "cell_type": "code",
   "execution_count": 16,
   "id": "612c68f3",
   "metadata": {},
   "outputs": [],
   "source": [
    "# Create and print a variable to tell us whether the statement-\n",
    "# -\"I have taken more trips within India than outside India\" is true or false using boolean variables."
   ]
  },
  {
   "cell_type": "code",
   "execution_count": 27,
   "id": "343fc46a",
   "metadata": {},
   "outputs": [
    {
     "data": {
      "text/plain": [
       "False"
      ]
     },
     "execution_count": 27,
     "metadata": {},
     "output_type": "execute_result"
    }
   ],
   "source": [
    "# i have taken more trips in india than outside india\n",
    "i_have_taken_more_trips_in_india_than_outside_india = trip_in_india>trip_outside_india\n",
    "i_have_taken_more_trips_in_india_than_outside_india\n"
   ]
  },
  {
   "cell_type": "code",
   "execution_count": null,
   "id": "aaee2c68",
   "metadata": {},
   "outputs": [],
   "source": [
    "# Create and print a variable to calculate the average number of trips you've taken in a year using-\n",
    "# your total number of trips and your age."
   ]
  },
  {
   "cell_type": "code",
   "execution_count": 30,
   "id": "1d9ca9a5",
   "metadata": {},
   "outputs": [
    {
     "data": {
      "text/plain": [
       "15.333333333333334"
      ]
     },
     "execution_count": 30,
     "metadata": {},
     "output_type": "execute_result"
    }
   ],
   "source": [
    "# average number of trips \n",
    "average_number_of_trips= (trip_in_india+trip_outside_india+my_age)/3\n",
    "average_number_of_trips"
   ]
  },
  {
   "cell_type": "code",
   "execution_count": null,
   "id": "810f16f4",
   "metadata": {},
   "outputs": [],
   "source": [
    "# Create and print a variable to tell us average number of trips you've taken, using the numeric value in a sentence."
   ]
  },
  {
   "cell_type": "code",
   "execution_count": 38,
   "id": "f1764b45",
   "metadata": {},
   "outputs": [
    {
     "data": {
      "text/plain": [
       "'average number of trips i have taken is '"
      ]
     },
     "execution_count": 38,
     "metadata": {},
     "output_type": "execute_result"
    }
   ],
   "source": [
    "# starting phrase\n",
    "starting_phrase = \"average number of trips i have taken is \"\n",
    "starting_phrase\n"
   ]
  },
  {
   "cell_type": "code",
   "execution_count": 40,
   "id": "38c5a74b",
   "metadata": {},
   "outputs": [
    {
     "data": {
      "text/plain": [
       "'average number of trips i have taken is 15.333333333333334'"
      ]
     },
     "execution_count": 40,
     "metadata": {},
     "output_type": "execute_result"
    }
   ],
   "source": [
    "# sentence\n",
    "sentence = starting_phrase+str(average_number_of_trips)\n",
    "sentence"
   ]
  },
  {
   "cell_type": "code",
   "execution_count": null,
   "id": "83f10c06",
   "metadata": {},
   "outputs": [],
   "source": []
  }
 ],
 "metadata": {
  "kernelspec": {
   "display_name": "Python 3",
   "language": "python",
   "name": "python3"
  },
  "language_info": {
   "codemirror_mode": {
    "name": "ipython",
    "version": 3
   },
   "file_extension": ".py",
   "mimetype": "text/x-python",
   "name": "python",
   "nbconvert_exporter": "python",
   "pygments_lexer": "ipython3",
   "version": "3.8.8"
  }
 },
 "nbformat": 4,
 "nbformat_minor": 5
}
